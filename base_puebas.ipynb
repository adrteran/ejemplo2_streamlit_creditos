{
 "cells": [
  {
   "cell_type": "code",
   "execution_count": 7,
   "id": "85ac22e4",
   "metadata": {},
   "outputs": [
    {
     "name": "stdout",
     "output_type": "stream",
     "text": [
      "Tasa de interes 0.02\n"
     ]
    }
   ],
   "source": [
    "import pandas as pd\n",
    "import funciones\n",
    "from funciones import tasa\n",
    "monto=3600\n",
    "plazo=12\n",
    "print(f\"Tasa de interes {tasa}\")"
   ]
  },
  {
   "cell_type": "code",
   "execution_count": 3,
   "id": "f3a53c03",
   "metadata": {},
   "outputs": [
    {
     "data": {
      "text/plain": [
       "340.41454784262515"
      ]
     },
     "execution_count": 3,
     "metadata": {},
     "output_type": "execute_result"
    }
   ],
   "source": [
    "def get_cuota (monto,plazo,tasa):\n",
    "    cuota=monto*((tasa*(1+tasa)**plazo)/((1+tasa)**(plazo)-1))\n",
    "    return cuota\n",
    "get_cuota(monto,plazo,tasa)  "
   ]
  },
  {
   "cell_type": "code",
   "execution_count": 4,
   "id": "d353e2a0",
   "metadata": {},
   "outputs": [],
   "source": [
    "cuota=get_cuota(monto,plazo,tasa) \n"
   ]
  },
  {
   "cell_type": "code",
   "execution_count": 5,
   "id": "bdc85e9e",
   "metadata": {},
   "outputs": [],
   "source": [
    "l_deuda = []\n",
    "l_amort = []\n",
    "l_inter = []\n",
    "l_saldo = []\n",
    "for t in range(plazo):\n",
    "    inter = monto * tasa\n",
    "    l_inter.append(round(inter,2))\n",
    "    monto = monto * (1+tasa)\n",
    "    l_deuda.append(round(monto,2))\n",
    "    amorti = cuota - inter\n",
    "    l_amort.append(round(amorti,2))\n",
    "    monto = monto - cuota\n",
    "    l_saldo.append(round(monto,2))"
   ]
  },
  {
   "cell_type": "code",
   "execution_count": 8,
   "id": "d60e6be1",
   "metadata": {},
   "outputs": [
    {
     "data": {
      "application/vnd.microsoft.datawrangler.viewer.v0+json": {
       "columns": [
        {
         "name": "index",
         "rawType": "int64",
         "type": "integer"
        },
        {
         "name": "Saldo_ini",
         "rawType": "float64",
         "type": "float"
        },
        {
         "name": "Amort",
         "rawType": "float64",
         "type": "float"
        },
        {
         "name": "Intereses",
         "rawType": "float64",
         "type": "float"
        },
        {
         "name": "Saldo_fin",
         "rawType": "float64",
         "type": "float"
        }
       ],
       "ref": "95d62a5b-3d7d-48f4-90de-ffe0f0028434",
       "rows": [
        [
         "0",
         "3672.0",
         "268.41",
         "72.0",
         "3331.59"
        ],
        [
         "1",
         "3398.22",
         "273.78",
         "66.63",
         "3057.8"
        ],
        [
         "2",
         "3118.96",
         "279.26",
         "61.16",
         "2778.54"
        ],
        [
         "3",
         "2834.12",
         "284.84",
         "55.57",
         "2493.7"
        ],
        [
         "4",
         "2543.57",
         "290.54",
         "49.87",
         "2203.16"
        ],
        [
         "5",
         "2247.22",
         "296.35",
         "44.06",
         "1906.81"
        ],
        [
         "6",
         "1944.94",
         "302.28",
         "38.14",
         "1604.53"
        ],
        [
         "7",
         "1636.62",
         "308.32",
         "32.09",
         "1296.21"
        ],
        [
         "8",
         "1322.13",
         "314.49",
         "25.92",
         "981.72"
        ],
        [
         "9",
         "1001.35",
         "320.78",
         "19.63",
         "660.94"
        ],
        [
         "10",
         "674.15",
         "327.2",
         "13.22",
         "333.74"
        ],
        [
         "11",
         "340.41",
         "333.74",
         "6.67",
         "0.0"
        ]
       ],
       "shape": {
        "columns": 4,
        "rows": 12
       }
      },
      "text/html": [
       "<div>\n",
       "<style scoped>\n",
       "    .dataframe tbody tr th:only-of-type {\n",
       "        vertical-align: middle;\n",
       "    }\n",
       "\n",
       "    .dataframe tbody tr th {\n",
       "        vertical-align: top;\n",
       "    }\n",
       "\n",
       "    .dataframe thead th {\n",
       "        text-align: right;\n",
       "    }\n",
       "</style>\n",
       "<table border=\"1\" class=\"dataframe\">\n",
       "  <thead>\n",
       "    <tr style=\"text-align: right;\">\n",
       "      <th></th>\n",
       "      <th>Saldo_ini</th>\n",
       "      <th>Amort</th>\n",
       "      <th>Intereses</th>\n",
       "      <th>Saldo_fin</th>\n",
       "    </tr>\n",
       "  </thead>\n",
       "  <tbody>\n",
       "    <tr>\n",
       "      <th>0</th>\n",
       "      <td>3672.00</td>\n",
       "      <td>268.41</td>\n",
       "      <td>72.00</td>\n",
       "      <td>3331.59</td>\n",
       "    </tr>\n",
       "    <tr>\n",
       "      <th>1</th>\n",
       "      <td>3398.22</td>\n",
       "      <td>273.78</td>\n",
       "      <td>66.63</td>\n",
       "      <td>3057.80</td>\n",
       "    </tr>\n",
       "    <tr>\n",
       "      <th>2</th>\n",
       "      <td>3118.96</td>\n",
       "      <td>279.26</td>\n",
       "      <td>61.16</td>\n",
       "      <td>2778.54</td>\n",
       "    </tr>\n",
       "    <tr>\n",
       "      <th>3</th>\n",
       "      <td>2834.12</td>\n",
       "      <td>284.84</td>\n",
       "      <td>55.57</td>\n",
       "      <td>2493.70</td>\n",
       "    </tr>\n",
       "    <tr>\n",
       "      <th>4</th>\n",
       "      <td>2543.57</td>\n",
       "      <td>290.54</td>\n",
       "      <td>49.87</td>\n",
       "      <td>2203.16</td>\n",
       "    </tr>\n",
       "    <tr>\n",
       "      <th>5</th>\n",
       "      <td>2247.22</td>\n",
       "      <td>296.35</td>\n",
       "      <td>44.06</td>\n",
       "      <td>1906.81</td>\n",
       "    </tr>\n",
       "    <tr>\n",
       "      <th>6</th>\n",
       "      <td>1944.94</td>\n",
       "      <td>302.28</td>\n",
       "      <td>38.14</td>\n",
       "      <td>1604.53</td>\n",
       "    </tr>\n",
       "    <tr>\n",
       "      <th>7</th>\n",
       "      <td>1636.62</td>\n",
       "      <td>308.32</td>\n",
       "      <td>32.09</td>\n",
       "      <td>1296.21</td>\n",
       "    </tr>\n",
       "    <tr>\n",
       "      <th>8</th>\n",
       "      <td>1322.13</td>\n",
       "      <td>314.49</td>\n",
       "      <td>25.92</td>\n",
       "      <td>981.72</td>\n",
       "    </tr>\n",
       "    <tr>\n",
       "      <th>9</th>\n",
       "      <td>1001.35</td>\n",
       "      <td>320.78</td>\n",
       "      <td>19.63</td>\n",
       "      <td>660.94</td>\n",
       "    </tr>\n",
       "    <tr>\n",
       "      <th>10</th>\n",
       "      <td>674.15</td>\n",
       "      <td>327.20</td>\n",
       "      <td>13.22</td>\n",
       "      <td>333.74</td>\n",
       "    </tr>\n",
       "    <tr>\n",
       "      <th>11</th>\n",
       "      <td>340.41</td>\n",
       "      <td>333.74</td>\n",
       "      <td>6.67</td>\n",
       "      <td>0.00</td>\n",
       "    </tr>\n",
       "  </tbody>\n",
       "</table>\n",
       "</div>"
      ],
      "text/plain": [
       "    Saldo_ini   Amort  Intereses  Saldo_fin\n",
       "0     3672.00  268.41      72.00    3331.59\n",
       "1     3398.22  273.78      66.63    3057.80\n",
       "2     3118.96  279.26      61.16    2778.54\n",
       "3     2834.12  284.84      55.57    2493.70\n",
       "4     2543.57  290.54      49.87    2203.16\n",
       "5     2247.22  296.35      44.06    1906.81\n",
       "6     1944.94  302.28      38.14    1604.53\n",
       "7     1636.62  308.32      32.09    1296.21\n",
       "8     1322.13  314.49      25.92     981.72\n",
       "9     1001.35  320.78      19.63     660.94\n",
       "10     674.15  327.20      13.22     333.74\n",
       "11     340.41  333.74       6.67       0.00"
      ]
     },
     "execution_count": 8,
     "metadata": {},
     "output_type": "execute_result"
    }
   ],
   "source": [
    "pd.DataFrame({'Saldo_ini':l_deuda,'Amort':l_amort,'Intereses':l_inter,'Saldo_fin':l_saldo})"
   ]
  }
 ],
 "metadata": {
  "kernelspec": {
   "display_name": "base",
   "language": "python",
   "name": "python3"
  },
  "language_info": {
   "codemirror_mode": {
    "name": "ipython",
    "version": 3
   },
   "file_extension": ".py",
   "mimetype": "text/x-python",
   "name": "python",
   "nbconvert_exporter": "python",
   "pygments_lexer": "ipython3",
   "version": "3.12.9"
  }
 },
 "nbformat": 4,
 "nbformat_minor": 5
}
